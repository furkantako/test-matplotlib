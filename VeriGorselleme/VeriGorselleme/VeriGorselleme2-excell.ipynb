{
 "cells": [
  {
   "cell_type": "markdown",
   "metadata": {},
   "source": [
    "MS Excel'den veri alma"
   ]
  },
  {
   "cell_type": "code",
   "execution_count": 1,
   "metadata": {},
   "outputs": [
    {
     "name": "stdout",
     "output_type": "stream",
     "text": [
      "    Yil  Tarim  Sanayi  TarimStd  SanayiStd\n",
      "0  2014     20      25         2          3\n",
      "1  2015     35      32         3          6\n",
      "2  2016     40      34         4          1\n",
      "3  2017     30      20         5          2\n",
      "4  2018     50      25         4          4\n"
     ]
    },
    {
     "data": {
      "text/html": [
       "<div>\n",
       "<style scoped>\n",
       "    .dataframe tbody tr th:only-of-type {\n",
       "        vertical-align: middle;\n",
       "    }\n",
       "\n",
       "    .dataframe tbody tr th {\n",
       "        vertical-align: top;\n",
       "    }\n",
       "\n",
       "    .dataframe thead th {\n",
       "        text-align: right;\n",
       "    }\n",
       "</style>\n",
       "<table border=\"1\" class=\"dataframe\">\n",
       "  <thead>\n",
       "    <tr style=\"text-align: right;\">\n",
       "      <th></th>\n",
       "      <th>Yil</th>\n",
       "      <th>Tarim</th>\n",
       "      <th>Sanayi</th>\n",
       "      <th>TarimStd</th>\n",
       "      <th>SanayiStd</th>\n",
       "    </tr>\n",
       "  </thead>\n",
       "  <tbody>\n",
       "    <tr>\n",
       "      <th>0</th>\n",
       "      <td>2014</td>\n",
       "      <td>20</td>\n",
       "      <td>25</td>\n",
       "      <td>2</td>\n",
       "      <td>3</td>\n",
       "    </tr>\n",
       "    <tr>\n",
       "      <th>1</th>\n",
       "      <td>2015</td>\n",
       "      <td>35</td>\n",
       "      <td>32</td>\n",
       "      <td>3</td>\n",
       "      <td>6</td>\n",
       "    </tr>\n",
       "    <tr>\n",
       "      <th>2</th>\n",
       "      <td>2016</td>\n",
       "      <td>40</td>\n",
       "      <td>34</td>\n",
       "      <td>4</td>\n",
       "      <td>1</td>\n",
       "    </tr>\n",
       "    <tr>\n",
       "      <th>3</th>\n",
       "      <td>2017</td>\n",
       "      <td>30</td>\n",
       "      <td>20</td>\n",
       "      <td>5</td>\n",
       "      <td>2</td>\n",
       "    </tr>\n",
       "    <tr>\n",
       "      <th>4</th>\n",
       "      <td>2018</td>\n",
       "      <td>50</td>\n",
       "      <td>25</td>\n",
       "      <td>4</td>\n",
       "      <td>4</td>\n",
       "    </tr>\n",
       "  </tbody>\n",
       "</table>\n",
       "</div>"
      ],
      "text/plain": [
       "    Yil  Tarim  Sanayi  TarimStd  SanayiStd\n",
       "0  2014     20      25         2          3\n",
       "1  2015     35      32         3          6\n",
       "2  2016     40      34         4          1\n",
       "3  2017     30      20         5          2\n",
       "4  2018     50      25         4          4"
      ]
     },
     "execution_count": 1,
     "metadata": {},
     "output_type": "execute_result"
    }
   ],
   "source": [
    "import pandas as pd \n",
    "\n",
    "klasor = \"C://My Documents/\"\n",
    "dosya = \"TarimSanayi.xlsx\"\n",
    "\n",
    "df = pd.read_excel(dosya) # excel dosyasini dataframe olarak aldik\n",
    "print(df)\n",
    "df\n"
   ]
  },
  {
   "cell_type": "code",
   "execution_count": null,
   "metadata": {},
   "outputs": [],
   "source": []
  },
  {
   "cell_type": "code",
   "execution_count": 2,
   "metadata": {},
   "outputs": [
    {
     "data": {
      "text/plain": [
       "(5, 5)"
      ]
     },
     "execution_count": 2,
     "metadata": {},
     "output_type": "execute_result"
    }
   ],
   "source": [
    "df.shape    # 5 satir 5 sutun varmis bize satir bilgisi lazim."
   ]
  },
  {
   "cell_type": "code",
   "execution_count": null,
   "metadata": {},
   "outputs": [],
   "source": []
  },
  {
   "cell_type": "code",
   "execution_count": 3,
   "metadata": {},
   "outputs": [],
   "source": [
    "N = df.shape[0]"
   ]
  },
  {
   "cell_type": "code",
   "execution_count": null,
   "metadata": {},
   "outputs": [],
   "source": []
  },
  {
   "cell_type": "code",
   "execution_count": 4,
   "metadata": {},
   "outputs": [
    {
     "data": {
      "text/plain": [
       "0    20\n",
       "1    35\n",
       "2    40\n",
       "3    30\n",
       "4    50\n",
       "Name: Tarim, dtype: int64"
      ]
     },
     "execution_count": 4,
     "metadata": {},
     "output_type": "execute_result"
    }
   ],
   "source": [
    "df.Tarim"
   ]
  },
  {
   "cell_type": "code",
   "execution_count": 6,
   "metadata": {},
   "outputs": [],
   "source": [
    "tarimOrt = df.Tarim\n",
    "sanayiOrt = df.Sanayi\n",
    "tarimStd = df.TarimStd\n",
    "sanayiStd = df.SanayiStd"
   ]
  },
  {
   "cell_type": "code",
   "execution_count": 7,
   "metadata": {},
   "outputs": [
    {
     "name": "stdout",
     "output_type": "stream",
     "text": [
      "[0 1 2 3 4]\n"
     ]
    },
    {
     "data": {
      "image/png": "[encoded data removed]",
      "text/plain": [
       "<Figure size 432x288 with 1 Axes>"
      ]
     },
     "metadata": {
      "needs_background": "light"
     },
     "output_type": "display_data"
    }
   ],
   "source": [
    "import matplotlib\n",
    "import matplotlib.pyplot as plt\n",
    "import numpy as np\n",
    "\n",
    "#N = 5       EXCEL DEN ALDIK\n",
    "#tarimOrt = (20, 35, 30, 35, 27)\n",
    "#sanayiOrt = (25, 32, 34, 20, 25)\n",
    "#tarimStd = (2, 3, 6, 1, 2)\n",
    "#sanayiStd = (3, 6, 1, 3, 3)\n",
    "\n",
    "ind = np.arange(N)    # 0 dan 4 e kadar sayi dizisi (5 elemanlı)\n",
    "print(ind)\n",
    "genislik = 0.55       # çubuklarımızın uzunluğu\n",
    "\n",
    "p1 = plt.bar(ind, tarimOrt, genislik, yerr=tarimStd)\n",
    "p2 = plt.bar(ind, sanayiOrt,genislik,bottom=tarimOrt, yerr=sanayiStd)\n",
    "\n",
    "plt.ylabel('Gelir (M TL)')\n",
    "plt.title('Sektore Gore Yil Bazinda Ortalama Gelirler')\n",
    "plt.xticks(ind, df.Yil)     # ('2014', '2015', '2016', '2017', '2018')\n",
    "plt.yticks(np.arange(0, 80+1, 10))\n",
    "plt.legend((p1[0], p2[0]), ('Tarim', 'Sanayi'))\n",
    "\n",
    "plt.show()"
   ]
  },
  {
   "cell_type": "markdown",
   "metadata": {},
   "source": [
    "Size direnmesi durumunda bu linke de goz atin: Sutun basliklarini var veya yok sayma, verilerin turlerini metin veya sayisallastirma gibi konularda yardimci olur. https://www.geeksforgeeks.org/how-to-import-an-excel-file-into-python-using-pandas/"
   ]
  },
  {
   "cell_type": "code",
   "execution_count": 6,
   "metadata": {},
   "outputs": [],
   "source": [
    "import numpy as np\n",
    "import matplotlib.pyplot as plt"
   ]
  },
  {
   "cell_type": "markdown",
   "metadata": {},
   "source": [
    "# Veri Görselleme 2"
   ]
  },
  {
   "cell_type": "markdown",
   "metadata": {},
   "source": [
    "## Çubuk Garfikler"
   ]
  },
  {
   "cell_type": "markdown",
   "metadata": {},
   "source": [
    "## Histogramlar\n",
    "\n",
    "Elimizdeki sayısal verinin dağılımını görsellemek için çubuk grafik (Histogram) uygun tekniklerden biridir.\n",
    "\n",
    "Veriler teker teker değerlendirilip belirli 'sepet' lere yerleştirilirler. Sürecin sonunda hangi sepette kaç adet eleman olduğu sayılır."
   ]
  },
  {
   "attachments": {
    "zeytinbins.jpg": {
     "image/jpeg": "[encoded data removed]"
    }
   },
   "cell_type": "markdown",
   "metadata": {},
   "source": [
    "![zeytinbins.jpg](attachment:zeytinbins.jpg)"
   ]
  },
  {
   "cell_type": "code",
   "execution_count": 8,
   "metadata": {},
   "outputs": [],
   "source": [
    "import numpy as np\n",
    "import matplotlib.mlab as mlab\n",
    "import matplotlib.pyplot as plt"
   ]
  },
  {
   "cell_type": "code",
   "execution_count": 10,
   "metadata": {},
   "outputs": [
    {
     "name": "stdout",
     "output_type": "stream",
     "text": [
      "[0.00048286 0.         0.         0.         0.         0.\n",
      " 0.         0.         0.00048286 0.         0.         0.\n",
      " 0.         0.         0.         0.         0.         0.\n",
      " 0.         0.00144857 0.         0.         0.00048286 0.00048286\n",
      " 0.         0.         0.         0.         0.00048286 0.00048286\n",
      " 0.         0.00048286 0.         0.         0.00048286 0.\n",
      " 0.         0.         0.00048286 0.         0.         0.00096572\n",
      " 0.00048286 0.         0.         0.         0.         0.\n",
      " 0.         0.00048286 0.00048286 0.         0.00048286 0.\n",
      " 0.         0.         0.00048286 0.00048286 0.00096572 0.\n",
      " 0.00048286 0.00048286 0.00096572 0.00096572 0.00048286 0.00048286\n",
      " 0.         0.00048286 0.00048286 0.00096572 0.00048286 0.00048286\n",
      " 0.00096572 0.00096572 0.00144857 0.00048286 0.00096572 0.\n",
      " 0.00048286 0.00096572 0.00096572 0.00096572 0.00048286 0.00193143\n",
      " 0.00144857 0.00193143 0.00048286 0.00241429 0.00338    0.00144857\n",
      " 0.00048286 0.00338    0.00144857 0.00144857 0.00144857 0.00096572\n",
      " 0.00048286 0.00193143 0.00096572 0.00096572 0.00144857 0.00338\n",
      " 0.00193143 0.00386286 0.00048286 0.00386286 0.00386286 0.00386286\n",
      " 0.00434572 0.00289715 0.00338    0.00338    0.00386286 0.00144857\n",
      " 0.00482858 0.00338    0.00338    0.00289715 0.00531144 0.00434572\n",
      " 0.00386286 0.00338    0.00434572 0.00531144 0.00579429 0.00434572\n",
      " 0.00096572 0.00482858 0.00386286 0.00289715 0.00676001 0.00434572\n",
      " 0.00434572 0.00338    0.00144857 0.00531144 0.00579429 0.00434572\n",
      " 0.00772572 0.00531144 0.00869144 0.00676001 0.00434572 0.00531144\n",
      " 0.00338    0.00772572 0.0091743  0.00772572 0.00627715 0.01062287\n",
      " 0.00772572 0.00724287 0.00531144 0.00772572 0.00869144 0.00772572\n",
      " 0.00482858 0.00676001 0.01158859 0.0091743  0.01207144 0.00965716\n",
      " 0.01014001 0.01448573 0.01062287 0.00627715 0.00965716 0.00965716\n",
      " 0.01303716 0.01158859 0.00772572 0.01110573 0.01352002 0.00820858\n",
      " 0.01110573 0.01352002 0.01110573 0.01690002 0.01014001 0.01303716\n",
      " 0.01158859 0.0125543  0.01641716 0.01352002 0.01883145 0.01545145\n",
      " 0.01496859 0.01014001 0.0183486  0.01593431 0.0125543  0.01158859\n",
      " 0.02076288 0.01303716 0.01738288 0.01641716 0.00869144 0.01786574\n",
      " 0.0217286  0.0183486  0.02607432 0.01593431 0.01931431 0.0251086\n",
      " 0.0125543  0.01786574 0.01979717 0.02317717 0.02076288 0.02317717\n",
      " 0.02221146 0.01738288 0.01641716 0.0183486  0.02752289 0.01931431\n",
      " 0.02269432 0.01786574 0.02414289 0.0217286  0.0251086  0.02897147\n",
      " 0.02124574 0.02559146 0.0217286  0.02269432 0.01931431 0.02028003\n",
      " 0.01883145 0.02414289 0.02848861 0.02655718 0.01641716 0.02317717\n",
      " 0.02076288 0.02269432 0.02945433 0.0217286  0.02269432 0.02655718\n",
      " 0.02028003 0.02366003 0.02366003 0.02897147 0.0251086  0.02269432\n",
      " 0.02655718 0.02993718 0.03380005 0.0309029  0.02704004 0.02752289\n",
      " 0.02559146 0.0309029  0.02028003 0.02366003 0.02269432 0.02800575\n",
      " 0.02704004 0.02704004 0.02655718 0.02559146 0.02800575 0.0217286\n",
      " 0.02607432 0.02124574 0.0217286  0.0400772  0.03766291 0.02848861\n",
      " 0.02945433 0.0309029  0.02800575 0.02704004 0.03283433 0.02655718\n",
      " 0.02559146 0.02993718 0.02076288 0.02462575 0.02462575 0.02848861\n",
      " 0.03138576 0.02897147 0.02752289 0.0251086  0.02752289 0.02462575\n",
      " 0.0217286  0.0251086  0.03138576 0.02945433 0.02028003 0.0251086\n",
      " 0.02221146 0.02366003 0.02462575 0.02076288 0.02655718 0.0251086\n",
      " 0.01883145 0.02124574 0.01738288 0.02704004 0.02269432 0.02607432\n",
      " 0.02028003 0.0217286  0.01931431 0.0217286  0.02076288 0.01786574\n",
      " 0.02028003 0.02366003 0.02076288 0.0217286  0.01448573 0.02414289\n",
      " 0.02028003 0.01496859 0.01786574 0.01883145 0.02366003 0.01593431\n",
      " 0.01786574 0.02559146 0.01207144 0.01931431 0.01496859 0.02076288\n",
      " 0.01303716 0.02124574 0.01883145 0.01641716 0.01593431 0.01738288\n",
      " 0.01593431 0.01690002 0.01158859 0.01641716 0.0183486  0.0125543\n",
      " 0.01883145 0.01545145 0.01496859 0.01110573 0.01110573 0.01400288\n",
      " 0.00869144 0.00869144 0.01352002 0.0125543  0.01883145 0.0125543\n",
      " 0.01496859 0.01352002 0.01062287 0.01014001 0.01352002 0.01062287\n",
      " 0.01158859 0.01110573 0.0125543  0.00627715 0.0091743  0.00965716\n",
      " 0.01110573 0.00724287 0.01014001 0.01062287 0.0091743  0.01014001\n",
      " 0.00627715 0.00724287 0.00869144 0.01207144 0.00724287 0.00482858\n",
      " 0.0091743  0.0091743  0.01062287 0.00627715 0.00772572 0.00627715\n",
      " 0.00724287 0.00627715 0.00193143 0.00724287 0.00676001 0.00627715\n",
      " 0.00579429 0.00531144 0.00531144 0.00338    0.00531144 0.00627715\n",
      " 0.00724287 0.00724287 0.00338    0.00531144 0.00531144 0.00482858\n",
      " 0.00434572 0.00193143 0.00482858 0.00241429 0.00289715 0.00289715\n",
      " 0.00241429 0.00386286 0.00193143 0.00193143 0.00144857 0.00386286\n",
      " 0.00096572 0.00338    0.00338    0.00241429 0.00144857 0.00144857\n",
      " 0.00289715 0.00241429 0.00289715 0.00193143 0.00096572 0.00096572\n",
      " 0.00338    0.00241429 0.00289715 0.00144857 0.00434572 0.00338\n",
      " 0.00386286 0.00338    0.00144857 0.00241429 0.00289715 0.00289715\n",
      " 0.00048286 0.00241429 0.00048286 0.00241429 0.00144857 0.00048286\n",
      " 0.00144857 0.00144857 0.00096572 0.00096572 0.00096572 0.\n",
      " 0.00193143 0.00048286 0.00048286 0.00048286 0.00241429 0.00048286\n",
      " 0.00048286 0.00144857 0.         0.00048286 0.         0.00193143\n",
      " 0.00048286 0.         0.         0.         0.         0.00048286\n",
      " 0.         0.         0.00048286 0.00048286 0.         0.\n",
      " 0.         0.00048286 0.         0.00048286 0.00096572 0.\n",
      " 0.00048286 0.00048286 0.00048286 0.00096572 0.00096572 0.00048286\n",
      " 0.00048286 0.         0.00048286 0.         0.         0.\n",
      " 0.         0.         0.         0.         0.00048286 0.\n",
      " 0.         0.00048286 0.         0.00048286 0.         0.\n",
      " 0.         0.         0.         0.         0.         0.\n",
      " 0.         0.         0.         0.         0.         0.\n",
      " 0.         0.         0.         0.         0.         0.\n",
      " 0.         0.         0.         0.         0.         0.\n",
      " 0.         0.         0.         0.         0.         0.\n",
      " 0.         0.         0.         0.         0.         0.\n",
      " 0.         0.         0.         0.         0.         0.\n",
      " 0.         0.         0.         0.00048286]\n",
      "---\n",
      "[ 45.33115219  45.53825251  45.74535282  45.95245314  46.15955345\n",
      "  46.36665377  46.57375408  46.7808544   46.98795471  47.19505503\n",
      "  47.40215534  47.60925566  47.81635597  48.02345629  48.2305566\n",
      "  48.43765692  48.64475723  48.85185755  49.05895786  49.26605818\n",
      "  49.47315849  49.68025881  49.88735912  50.09445944  50.30155975\n",
      "  50.50866007  50.71576039  50.9228607   51.12996102  51.33706133\n",
      "  51.54416165  51.75126196  51.95836228  52.16546259  52.37256291\n",
      "  52.57966322  52.78676354  52.99386385  53.20096417  53.40806448\n",
      "  53.6151648   53.82226511  54.02936543  54.23646574  54.44356606\n",
      "  54.65066637  54.85776669  55.064867    55.27196732  55.47906763\n",
      "  55.68616795  55.89326826  56.10036858  56.30746889  56.51456921\n",
      "  56.72166952  56.92876984  57.13587015  57.34297047  57.55007079\n",
      "  57.7571711   57.96427142  58.17137173  58.37847205  58.58557236\n",
      "  58.79267268  58.99977299  59.20687331  59.41397362  59.62107394\n",
      "  59.82817425  60.03527457  60.24237488  60.4494752   60.65657551\n",
      "  60.86367583  61.07077614  61.27787646  61.48497677  61.69207709\n",
      "  61.8991774   62.10627772  62.31337803  62.52047835  62.72757866\n",
      "  62.93467898  63.14177929  63.34887961  63.55597992  63.76308024\n",
      "  63.97018055  64.17728087  64.38438119  64.5914815   64.79858182\n",
      "  65.00568213  65.21278245  65.41988276  65.62698308  65.83408339\n",
      "  66.04118371  66.24828402  66.45538434  66.66248465  66.86958497\n",
      "  67.07668528  67.2837856   67.49088591  67.69798623  67.90508654\n",
      "  68.11218686  68.31928717  68.52638749  68.7334878   68.94058812\n",
      "  69.14768843  69.35478875  69.56188906  69.76898938  69.97608969\n",
      "  70.18319001  70.39029032  70.59739064  70.80449095  71.01159127\n",
      "  71.21869159  71.4257919   71.63289222  71.83999253  72.04709285\n",
      "  72.25419316  72.46129348  72.66839379  72.87549411  73.08259442\n",
      "  73.28969474  73.49679505  73.70389537  73.91099568  74.118096\n",
      "  74.32519631  74.53229663  74.73939694  74.94649726  75.15359757\n",
      "  75.36069789  75.5677982   75.77489852  75.98199883  76.18909915\n",
      "  76.39619946  76.60329978  76.81040009  77.01750041  77.22460072\n",
      "  77.43170104  77.63880136  77.84590167  78.05300199  78.2601023\n",
      "  78.46720262  78.67430293  78.88140325  79.08850356  79.29560388\n",
      "  79.50270419  79.70980451  79.91690482  80.12400514  80.33110545\n",
      "  80.53820577  80.74530608  80.9524064   81.15950671  81.36660703\n",
      "  81.57370734  81.78080766  81.98790797  82.19500829  82.4021086\n",
      "  82.60920892  82.81630923  83.02340955  83.23050986  83.43761018\n",
      "  83.64471049  83.85181081  84.05891112  84.26601144  84.47311176\n",
      "  84.68021207  84.88731239  85.0944127   85.30151302  85.50861333\n",
      "  85.71571365  85.92281396  86.12991428  86.33701459  86.54411491\n",
      "  86.75121522  86.95831554  87.16541585  87.37251617  87.57961648\n",
      "  87.7867168   87.99381711  88.20091743  88.40801774  88.61511806\n",
      "  88.82221837  89.02931869  89.236419    89.44351932  89.65061963\n",
      "  89.85771995  90.06482026  90.27192058  90.47902089  90.68612121\n",
      "  90.89322152  91.10032184  91.30742216  91.51452247  91.72162279\n",
      "  91.9287231   92.13582342  92.34292373  92.55002405  92.75712436\n",
      "  92.96422468  93.17132499  93.37842531  93.58552562  93.79262594\n",
      "  93.99972625  94.20682657  94.41392688  94.6210272   94.82812751\n",
      "  95.03522783  95.24232814  95.44942846  95.65652877  95.86362909\n",
      "  96.0707294   96.27782972  96.48493003  96.69203035  96.89913066\n",
      "  97.10623098  97.31333129  97.52043161  97.72753192  97.93463224\n",
      "  98.14173256  98.34883287  98.55593319  98.7630335   98.97013382\n",
      "  99.17723413  99.38433445  99.59143476  99.79853508 100.00563539\n",
      " 100.21273571 100.41983602 100.62693634 100.83403665 101.04113697\n",
      " 101.24823728 101.4553376  101.66243791 101.86953823 102.07663854\n",
      " 102.28373886 102.49083917 102.69793949 102.9050398  103.11214012\n",
      " 103.31924043 103.52634075 103.73344106 103.94054138 104.14764169\n",
      " 104.35474201 104.56184232 104.76894264 104.97604296 105.18314327\n",
      " 105.39024359 105.5973439  105.80444422 106.01154453 106.21864485\n",
      " 106.42574516 106.63284548 106.83994579 107.04704611 107.25414642\n",
      " 107.46124674 107.66834705 107.87544737 108.08254768 108.289648\n",
      " 108.49674831 108.70384863 108.91094894 109.11804926 109.32514957\n",
      " 109.53224989 109.7393502  109.94645052 110.15355083 110.36065115\n",
      " 110.56775146 110.77485178 110.98195209 111.18905241 111.39615272\n",
      " 111.60325304 111.81035336 112.01745367 112.22455399 112.4316543\n",
      " 112.63875462 112.84585493 113.05295525 113.26005556 113.46715588\n",
      " 113.67425619 113.88135651 114.08845682 114.29555714 114.50265745\n",
      " 114.70975777 114.91685808 115.1239584  115.33105871 115.53815903\n",
      " 115.74525934 115.95235966 116.15945997 116.36656029 116.5736606\n",
      " 116.78076092 116.98786123 117.19496155 117.40206186 117.60916218\n",
      " 117.81626249 118.02336281 118.23046312 118.43756344 118.64466376\n",
      " 118.85176407 119.05886439 119.2659647  119.47306502 119.68016533\n",
      " 119.88726565 120.09436596 120.30146628 120.50856659 120.71566691\n",
      " 120.92276722 121.12986754 121.33696785 121.54406817 121.75116848\n",
      " 121.9582688  122.16536911 122.37246943 122.57956974 122.78667006\n",
      " 122.99377037 123.20087069 123.407971   123.61507132 123.82217163\n",
      " 124.02927195 124.23637226 124.44347258 124.65057289 124.85767321\n",
      " 125.06477352 125.27187384 125.47897416 125.68607447 125.89317479\n",
      " 126.1002751  126.30737542 126.51447573 126.72157605 126.92867636\n",
      " 127.13577668 127.34287699 127.54997731 127.75707762 127.96417794\n",
      " 128.17127825 128.37837857 128.58547888 128.7925792  128.99967951\n",
      " 129.20677983 129.41388014 129.62098046 129.82808077 130.03518109\n",
      " 130.2422814  130.44938172 130.65648203 130.86358235 131.07068266\n",
      " 131.27778298 131.48488329 131.69198361 131.89908392 132.10618424\n",
      " 132.31328456 132.52038487 132.72748519 132.9345855  133.14168582\n",
      " 133.34878613 133.55588645 133.76298676 133.97008708 134.17718739\n",
      " 134.38428771 134.59138802 134.79848834 135.00558865 135.21268897\n",
      " 135.41978928 135.6268896  135.83398991 136.04109023 136.24819054\n",
      " 136.45529086 136.66239117 136.86949149 137.0765918  137.28369212\n",
      " 137.49079243 137.69789275 137.90499306 138.11209338 138.31919369\n",
      " 138.52629401 138.73339432 138.94049464 139.14759496 139.35469527\n",
      " 139.56179559 139.7688959  139.97599622 140.18309653 140.39019685\n",
      " 140.59729716 140.80439748 141.01149779 141.21859811 141.42569842\n",
      " 141.63279874 141.83989905 142.04699937 142.25409968 142.4612\n",
      " 142.66830031 142.87540063 143.08250094 143.28960126 143.49670157\n",
      " 143.70380189 143.9109022  144.11800252 144.32510283 144.53220315\n",
      " 144.73930346 144.94640378 145.15350409 145.36060441 145.56770472\n",
      " 145.77480504 145.98190536 146.18900567 146.39610599 146.6032063\n",
      " 146.81030662 147.01740693 147.22450725 147.43160756 147.63870788\n",
      " 147.84580819 148.05290851 148.26000882 148.46710914 148.67420945\n",
      " 148.88130977 149.08841008 149.2955104  149.50261071 149.70971103\n",
      " 149.91681134 150.12391166 150.33101197 150.53811229 150.7452126\n",
      " 150.95231292 151.15941323 151.36651355 151.57361386 151.78071418\n",
      " 151.98781449 152.19491481 152.40201512 152.60911544 152.81621576\n",
      " 153.02331607 153.23041639 153.4375167  153.64461702 153.85171733\n",
      " 154.05881765 154.26591796 154.47301828 154.68011859 154.88721891\n",
      " 155.09431922 155.30141954 155.50851985 155.71562017 155.92272048\n",
      " 156.1298208  156.33692111 156.54402143 156.75112174 156.95822206\n",
      " 157.16532237 157.37242269 157.579523   157.78662332 157.99372363\n",
      " 158.20082395 158.40792426 158.61502458 158.82212489 159.02922521\n",
      " 159.23632552]\n",
      "---\n",
      "<a list of 550 Patch objects>\n",
      "---\n",
      "Rectangle(xy=(45.5383, 0), width=0.2071, height=0, angle=0)\n"
     ]
    },
    {
     "data": {
      "image/png": "[encoded data removed]",
      "text/plain": [
       "<Figure size 432x288 with 1 Axes>"
      ]
     },
     "metadata": {
      "needs_background": "light"
     },
     "output_type": "display_data"
    }
   ],
   "source": [
    "\n",
    "# Verimizi üretelim\n",
    "mu = 100 # verimizin ortalaması\n",
    "sigma = 15 # standart sapması\n",
    "x = mu + sigma * np.random.randn(10000)\n",
    "\n",
    "num_bins = 50\n",
    "# verimizin histogrami\n",
    "n, bins, patches = plt.hist(x, num_bins, density=1, facecolor='blue', alpha=0.5)\n",
    "\n",
    "print(n)\n",
    "print(\"---\")\n",
    "print(bins)\n",
    "print(\"---\")\n",
    "print(patches)\n",
    "print(\"---\")\n",
    "print(patches[1])\n",
    "\n",
    "plt.xlabel('Zeka')\n",
    "plt.ylabel('Olasılık')\n",
    "plt.title(r'IQ Histogramı: $\\Omega=100$, $\\sigma=15$')\n",
    " \n",
    "# Sola yapismaya mani olmak icin eklenebilir\n",
    "#plt.subplots_adjust(left=0.15, top = 0.9)\n",
    "plt.show()"
   ]
  },
  {
   "cell_type": "markdown",
   "metadata": {},
   "source": [
    "https://matplotlib.org/api/_as_gen/matplotlib.pyplot.subplots_adjust.html"
   ]
  },
  {
   "cell_type": "markdown",
   "metadata": {},
   "source": [
    "## Dilim Grafikler"
   ]
  },
  {
   "cell_type": "code",
   "execution_count": 25,
   "metadata": {},
   "outputs": [
    {
     "data": {
      "image/png": "[encoded data removed]",
      "text/plain": [
       "<Figure size 432x288 with 1 Axes>"
      ]
     },
     "metadata": {},
     "output_type": "display_data"
    }
   ],
   "source": [
    "import matplotlib.pyplot as plt\n",
    "\n",
    "# Saat yönünün tersine çizilen dilim garfik:\n",
    "labels = 'Diğer', 'Alışveriş', 'Akaryakıt', 'Hobi/Eğlence'\n",
    "sizes = [15, 30, 45, 10]\n",
    "explode = (0.1, 0.7, 0.2, 0)  # sadece istediğimiz dilimleri ayırabiliriz\n",
    "\n",
    "fig1, ax1 = plt.subplots()\n",
    "ax1.pie(sizes,explode=explode,  labels=labels, autopct='%1.1f%%',\n",
    "        shadow=True, startangle=190)\n",
    "#ax1.axis('equal')  # Dairenin yuvarlak çıkmasını sağlar.\n",
    "\n",
    "plt.show()\n"
   ]
  },
  {
   "cell_type": "code",
   "execution_count": null,
   "metadata": {},
   "outputs": [],
   "source": []
  },
  {
   "cell_type": "code",
   "execution_count": null,
   "metadata": {},
   "outputs": [],
   "source": []
  },
  {
   "cell_type": "markdown",
   "metadata": {},
   "source": [
    "http://detexify.kirelabs.org/classify.html"
   ]
  },
  {
   "cell_type": "code",
   "execution_count": null,
   "metadata": {},
   "outputs": [],
   "source": []
  },
  {
   "cell_type": "code",
   "execution_count": null,
   "metadata": {},
   "outputs": [],
   "source": []
  },
  {
   "cell_type": "code",
   "execution_count": null,
   "metadata": {},
   "outputs": [],
   "source": []
  },
  {
   "cell_type": "code",
   "execution_count": null,
   "metadata": {},
   "outputs": [],
   "source": []
  }
 ],
 "metadata": {
  "kernelspec": {
   "display_name": "Python 3",
   "language": "python",
   "name": "python3"
  },
  "language_info": {
   "codemirror_mode": {
    "name": "ipython",
    "version": 3
   },
   "file_extension": ".py",
   "mimetype": "text/x-python",
   "name": "python",
   "nbconvert_exporter": "python",
   "pygments_lexer": "ipython3",
   "version": "3.7.3"
  }
 },
 "nbformat": 4,
 "nbformat_minor": 2
}
