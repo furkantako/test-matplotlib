{
 "cells": [
  {
   "cell_type": "markdown",
   "id": "8c3c18cd",
   "metadata": {},
   "source": [
    "# Ilk Ders Dosyasi"
   ]
  },
  {
   "cell_type": "markdown",
   "id": "7beecea1",
   "metadata": {},
   "source": [
    "Bu derste, jupyter notebooka ve pythona giris yapacagiz."
   ]
  },
  {
   "cell_type": "code",
   "execution_count": 4,
   "id": "66f6ccb7",
   "metadata": {},
   "outputs": [
    {
     "name": "stdout",
     "output_type": "stream",
     "text": [
      "Merhaba!\n"
     ]
    }
   ],
   "source": [
    "print(\"Merhaba!\")\n"
   ]
  },
  {
   "cell_type": "code",
   "execution_count": 6,
   "id": "269f674b",
   "metadata": {},
   "outputs": [
    {
     "name": "stdout",
     "output_type": "stream",
     "text": [
      "X\n"
     ]
    }
   ],
   "source": [
    "print(\"X\")"
   ]
  },
  {
   "cell_type": "code",
   "execution_count": 7,
   "id": "32d06e07",
   "metadata": {},
   "outputs": [
    {
     "name": "stdout",
     "output_type": "stream",
     "text": [
      "Bir space daha\n"
     ]
    }
   ],
   "source": [
    "if 3>4 :\n",
    "    print(\"BUYUK\")\n",
    "    print(\"5 4 ten buyuk\")\n",
    "    print()\n",
    "    \n",
    "print(\"Bir space daha\")\n"
   ]
  },
  {
   "cell_type": "code",
   "execution_count": null,
   "id": "579c7b8e",
   "metadata": {},
   "outputs": [],
   "source": [
    "if                         (5>4)\n",
    "                {\n",
    "printf(\"BUYUK\");\n",
    "}"
   ]
  },
  {
   "cell_type": "code",
   "execution_count": 8,
   "id": "a27b4bc2",
   "metadata": {},
   "outputs": [],
   "source": [
    "x = 3"
   ]
  },
  {
   "cell_type": "code",
   "execution_count": 15,
   "id": "c5d553e2",
   "metadata": {},
   "outputs": [
    {
     "name": "stdout",
     "output_type": "stream",
     "text": [
      "3\n"
     ]
    }
   ],
   "source": [
    "print(x)"
   ]
  },
  {
   "cell_type": "code",
   "execution_count": 11,
   "id": "172ef042",
   "metadata": {},
   "outputs": [
    {
     "data": {
      "text/plain": [
       "3"
      ]
     },
     "execution_count": 11,
     "metadata": {},
     "output_type": "execute_result"
    }
   ],
   "source": [
    "x"
   ]
  },
  {
   "cell_type": "code",
   "execution_count": 17,
   "id": "e2c339a7",
   "metadata": {},
   "outputs": [
    {
     "name": "stdout",
     "output_type": "stream",
     "text": [
      "5.0\n"
     ]
    }
   ],
   "source": [
    "# Virgullu sayi oldugu malum oldu pythona\n",
    "y = 5.0\n",
    "print(y) # y nin degerini ekrana yazdir"
   ]
  },
  {
   "cell_type": "code",
   "execution_count": 13,
   "id": "e7b32aba",
   "metadata": {},
   "outputs": [
    {
     "data": {
      "text/plain": [
       "5.0"
      ]
     },
     "execution_count": 13,
     "metadata": {},
     "output_type": "execute_result"
    }
   ],
   "source": [
    "y"
   ]
  },
  {
   "cell_type": "code",
   "execution_count": 18,
   "id": "06e7081d",
   "metadata": {},
   "outputs": [],
   "source": [
    "ş = 11"
   ]
  },
  {
   "cell_type": "code",
   "execution_count": 19,
   "id": "0942b9d2",
   "metadata": {},
   "outputs": [
    {
     "name": "stdout",
     "output_type": "stream",
     "text": [
      "11\n"
     ]
    }
   ],
   "source": [
    "\"\"\"\n",
    "dfkljafsddjkl\n",
    "kjadfsjk\n",
    "fdskjfdsj\n",
    "fdkjasf;j   /*   */\n",
    "\"\"\"\n",
    "\n",
    "print(ş)"
   ]
  },
  {
   "cell_type": "code",
   "execution_count": 20,
   "id": "5a87769f",
   "metadata": {},
   "outputs": [
    {
     "name": "stdout",
     "output_type": "stream",
     "text": [
      "Hosgeldin\n"
     ]
    }
   ],
   "source": [
    "karsilama = \"Hosgeldin\"    # metin veya string turunde degisken\n",
    "\n",
    "\n",
    "print(karsilama)"
   ]
  },
  {
   "cell_type": "code",
   "execution_count": 45,
   "id": "cda65c58",
   "metadata": {},
   "outputs": [
    {
     "name": "stdout",
     "output_type": "stream",
     "text": [
      "merhaba\n",
      "5\n"
     ]
    },
    {
     "data": {
      "text/plain": [
       "5"
      ]
     },
     "execution_count": 45,
     "metadata": {},
     "output_type": "execute_result"
    }
   ],
   "source": [
    "x = \"merhaba\"\n",
    "print(x)\n",
    "\n",
    "x = 5\n",
    "print(x)\n",
    "x"
   ]
  },
  {
   "cell_type": "code",
   "execution_count": 27,
   "id": "793ea138",
   "metadata": {},
   "outputs": [
    {
     "data": {
      "text/plain": [
       "5"
      ]
     },
     "execution_count": 27,
     "metadata": {},
     "output_type": "execute_result"
    }
   ],
   "source": [
    "x"
   ]
  },
  {
   "cell_type": "code",
   "execution_count": 44,
   "id": "91618ff6",
   "metadata": {},
   "outputs": [
    {
     "ename": "ValueError",
     "evalue": "invalid literal for int() with base 10: 'merhaba'",
     "output_type": "error",
     "traceback": [
      "\u001b[0;31m---------------------------------------------------------------------------\u001b[0m",
      "\u001b[0;31mValueError\u001b[0m                                Traceback (most recent call last)",
      "Cell \u001b[0;32mIn[44], line 1\u001b[0m\n\u001b[0;32m----> 1\u001b[0m x\u001b[38;5;241m=\u001b[39m\u001b[38;5;28mint\u001b[39m(x)\n",
      "\u001b[0;31mValueError\u001b[0m: invalid literal for int() with base 10: 'merhaba'"
     ]
    }
   ],
   "source": [
    "x=int(x)"
   ]
  },
  {
   "cell_type": "code",
   "execution_count": 39,
   "id": "a7ec1ade",
   "metadata": {},
   "outputs": [
    {
     "data": {
      "text/plain": [
       "5"
      ]
     },
     "execution_count": 39,
     "metadata": {},
     "output_type": "execute_result"
    }
   ],
   "source": [
    "x"
   ]
  },
  {
   "cell_type": "code",
   "execution_count": 61,
   "id": "09c1a83a",
   "metadata": {},
   "outputs": [],
   "source": [
    "x = y = z = 3"
   ]
  },
  {
   "cell_type": "code",
   "execution_count": 55,
   "id": "01057deb",
   "metadata": {},
   "outputs": [],
   "source": [
    "x = int(5)"
   ]
  },
  {
   "cell_type": "code",
   "execution_count": 64,
   "id": "0d216e88",
   "metadata": {},
   "outputs": [
    {
     "name": "stdout",
     "output_type": "stream",
     "text": [
      "merhaba\n"
     ]
    }
   ],
   "source": [
    "print(x)"
   ]
  },
  {
   "cell_type": "code",
   "execution_count": 63,
   "id": "94a1850c",
   "metadata": {},
   "outputs": [],
   "source": [
    "x = \"merhaba\"\n",
    "x = 'merhaba'"
   ]
  },
  {
   "cell_type": "code",
   "execution_count": 59,
   "id": "860aab5f",
   "metadata": {},
   "outputs": [],
   "source": [
    "x = int(5.0)"
   ]
  },
  {
   "cell_type": "code",
   "execution_count": 179,
   "id": "0ac36144",
   "metadata": {},
   "outputs": [],
   "source": [
    "ogrenciler = [\"ali\", \"burak\", \"cengiz\",\"davut\",\"emre\"]"
   ]
  },
  {
   "cell_type": "code",
   "execution_count": 94,
   "id": "921001a9",
   "metadata": {},
   "outputs": [
    {
     "name": "stdout",
     "output_type": "stream",
     "text": [
      "['ali', 'burak', 'cengiz', 'davut', 'emre']\n"
     ]
    }
   ],
   "source": [
    "print(ogrenciler)"
   ]
  },
  {
   "cell_type": "code",
   "execution_count": 78,
   "id": "2bf8f6d8",
   "metadata": {},
   "outputs": [
    {
     "data": {
      "text/plain": [
       "'ali'"
      ]
     },
     "execution_count": 78,
     "metadata": {},
     "output_type": "execute_result"
    }
   ],
   "source": [
    "ogrenciler[0]"
   ]
  },
  {
   "cell_type": "code",
   "execution_count": 79,
   "id": "b10b5f24",
   "metadata": {},
   "outputs": [],
   "source": [
    "ogrenciler[0] = \"ahmet\""
   ]
  },
  {
   "cell_type": "code",
   "execution_count": 81,
   "id": "028388b3",
   "metadata": {},
   "outputs": [
    {
     "name": "stdout",
     "output_type": "stream",
     "text": [
      "['ahmet', 'burak', 'cengiz']\n"
     ]
    }
   ],
   "source": [
    "print(ogrenciler)"
   ]
  },
  {
   "cell_type": "code",
   "execution_count": 84,
   "id": "1732d4de",
   "metadata": {},
   "outputs": [],
   "source": [
    "a, b, c = ogrenciler"
   ]
  },
  {
   "cell_type": "code",
   "execution_count": 85,
   "id": "fdcf28c0",
   "metadata": {},
   "outputs": [
    {
     "data": {
      "text/plain": [
       "'ali'"
      ]
     },
     "execution_count": 85,
     "metadata": {},
     "output_type": "execute_result"
    }
   ],
   "source": [
    "a"
   ]
  },
  {
   "cell_type": "code",
   "execution_count": 86,
   "id": "fd741189",
   "metadata": {},
   "outputs": [
    {
     "data": {
      "text/plain": [
       "'burak'"
      ]
     },
     "execution_count": 86,
     "metadata": {},
     "output_type": "execute_result"
    }
   ],
   "source": [
    "b"
   ]
  },
  {
   "cell_type": "code",
   "execution_count": 87,
   "id": "6e52574c",
   "metadata": {},
   "outputs": [
    {
     "data": {
      "text/plain": [
       "'cengiz'"
      ]
     },
     "execution_count": 87,
     "metadata": {},
     "output_type": "execute_result"
    }
   ],
   "source": [
    "c"
   ]
  },
  {
   "cell_type": "code",
   "execution_count": 95,
   "id": "fc583253",
   "metadata": {},
   "outputs": [
    {
     "data": {
      "text/plain": [
       "'davut'"
      ]
     },
     "execution_count": 95,
     "metadata": {},
     "output_type": "execute_result"
    }
   ],
   "source": [
    "ogrenciler[3]"
   ]
  },
  {
   "cell_type": "code",
   "execution_count": 96,
   "id": "69799d48",
   "metadata": {},
   "outputs": [
    {
     "data": {
      "text/plain": [
       "'emre'"
      ]
     },
     "execution_count": 96,
     "metadata": {},
     "output_type": "execute_result"
    }
   ],
   "source": [
    "ogrenciler[4]"
   ]
  },
  {
   "cell_type": "code",
   "execution_count": 97,
   "id": "371c6891",
   "metadata": {},
   "outputs": [
    {
     "data": {
      "text/plain": [
       "'emre'"
      ]
     },
     "execution_count": 97,
     "metadata": {},
     "output_type": "execute_result"
    }
   ],
   "source": [
    "ogrenciler[5-1]"
   ]
  },
  {
   "cell_type": "code",
   "execution_count": 100,
   "id": "ee56a901",
   "metadata": {},
   "outputs": [
    {
     "data": {
      "text/plain": [
       "'emre'"
      ]
     },
     "execution_count": 100,
     "metadata": {},
     "output_type": "execute_result"
    }
   ],
   "source": [
    "ogrenciler[-1]"
   ]
  },
  {
   "cell_type": "code",
   "execution_count": 101,
   "id": "6d58009e",
   "metadata": {},
   "outputs": [
    {
     "data": {
      "text/plain": [
       "'davut'"
      ]
     },
     "execution_count": 101,
     "metadata": {},
     "output_type": "execute_result"
    }
   ],
   "source": [
    "ogrenciler[-2]"
   ]
  },
  {
   "cell_type": "code",
   "execution_count": 103,
   "id": "f9550435",
   "metadata": {},
   "outputs": [
    {
     "data": {
      "text/plain": [
       "['burak', 'cengiz']"
      ]
     },
     "execution_count": 103,
     "metadata": {},
     "output_type": "execute_result"
    }
   ],
   "source": [
    "ogrenciler[1:3]"
   ]
  },
  {
   "cell_type": "code",
   "execution_count": 107,
   "id": "d090bf78",
   "metadata": {},
   "outputs": [
    {
     "data": {
      "text/plain": [
       "['burak', 'cengiz']"
      ]
     },
     "execution_count": 107,
     "metadata": {},
     "output_type": "execute_result"
    }
   ],
   "source": [
    "ogrenciler[-4:-2]"
   ]
  },
  {
   "cell_type": "code",
   "execution_count": 112,
   "id": "a689f619",
   "metadata": {},
   "outputs": [
    {
     "name": "stdout",
     "output_type": "stream",
     "text": [
      "Cengiz bizim ogrencimiz degil\n"
     ]
    }
   ],
   "source": [
    "if \"hakan\" in ogrenciler:\n",
    "    print(\"Cengiz bizim bir ogrencimiz\")\n",
    "else:\n",
    "    print(\"Cengiz bizim ogrencimiz degil\")"
   ]
  },
  {
   "cell_type": "code",
   "execution_count": 113,
   "id": "596ce0c7",
   "metadata": {},
   "outputs": [
    {
     "data": {
      "text/plain": [
       "['burak', 'cengiz']"
      ]
     },
     "execution_count": 113,
     "metadata": {},
     "output_type": "execute_result"
    }
   ],
   "source": [
    "ogrenciler[1:3]\n"
   ]
  },
  {
   "cell_type": "code",
   "execution_count": 114,
   "id": "a6230e65",
   "metadata": {},
   "outputs": [],
   "source": [
    "ogrenciler[1:3] = [\"banu\", \"can\"]"
   ]
  },
  {
   "cell_type": "code",
   "execution_count": 135,
   "id": "ab1038ff",
   "metadata": {},
   "outputs": [
    {
     "data": {
      "text/plain": [
       "['ali',\n",
       " 'banu',\n",
       " 'can',\n",
       " 'davut',\n",
       " 'zoltan',\n",
       " 'emre',\n",
       " 'hakan',\n",
       " 'kazim',\n",
       " 'hasmet',\n",
       " 'hasan',\n",
       " 'haşmet',\n",
       " 'hasan']"
      ]
     },
     "execution_count": 135,
     "metadata": {},
     "output_type": "execute_result"
    }
   ],
   "source": [
    "ogrenciler"
   ]
  },
  {
   "cell_type": "code",
   "execution_count": 131,
   "id": "d61095aa",
   "metadata": {},
   "outputs": [],
   "source": [
    "ogrenciler.insert(4,\"zoltan\") "
   ]
  },
  {
   "cell_type": "code",
   "execution_count": 134,
   "id": "57d69888",
   "metadata": {},
   "outputs": [],
   "source": [
    "ekstraOgrenciler = [\"haşmet\",\"hasan\"]\n",
    "ogrenciler.extend(ekstraOgrenciler)"
   ]
  },
  {
   "cell_type": "code",
   "execution_count": 124,
   "id": "e81f3800",
   "metadata": {},
   "outputs": [],
   "source": [
    "ogrenciler[7] = \"kazim\""
   ]
  },
  {
   "cell_type": "code",
   "execution_count": 129,
   "id": "783e64ce",
   "metadata": {},
   "outputs": [],
   "source": [
    "ogrenciler.remove(\"zoltan\")"
   ]
  },
  {
   "cell_type": "code",
   "execution_count": 137,
   "id": "af425dbc",
   "metadata": {},
   "outputs": [],
   "source": [
    "öğrenciler = [1,23,4,5]"
   ]
  },
  {
   "cell_type": "code",
   "execution_count": 138,
   "id": "aa515a39",
   "metadata": {},
   "outputs": [
    {
     "data": {
      "text/plain": [
       "[1, 23, 4, 5]"
      ]
     },
     "execution_count": 138,
     "metadata": {},
     "output_type": "execute_result"
    }
   ],
   "source": [
    "öğrenciler"
   ]
  },
  {
   "cell_type": "code",
   "execution_count": 176,
   "id": "890bada9",
   "metadata": {},
   "outputs": [
    {
     "data": {
      "text/plain": [
       "['ali', 'davut', 'zoltan', 'emre', 'hakan', 'kazim', [2]]"
      ]
     },
     "execution_count": 176,
     "metadata": {},
     "output_type": "execute_result"
    }
   ],
   "source": [
    "ogrenciler"
   ]
  },
  {
   "cell_type": "code",
   "execution_count": 169,
   "id": "261ea556",
   "metadata": {},
   "outputs": [],
   "source": [
    "ogrenciler.remove([1])"
   ]
  },
  {
   "cell_type": "code",
   "execution_count": 142,
   "id": "9d5214c2",
   "metadata": {},
   "outputs": [
    {
     "data": {
      "text/plain": [
       "'hasan'"
      ]
     },
     "execution_count": 142,
     "metadata": {},
     "output_type": "execute_result"
    }
   ],
   "source": [
    "ogrenciler.pop(-1)"
   ]
  },
  {
   "cell_type": "code",
   "execution_count": 156,
   "id": "4f510516",
   "metadata": {},
   "outputs": [],
   "source": [
    "sonOgrenci = ogrenciler.pop()"
   ]
  },
  {
   "cell_type": "code",
   "execution_count": 157,
   "id": "cd2599a5",
   "metadata": {},
   "outputs": [
    {
     "data": {
      "text/plain": [
       "'hasmet'"
      ]
     },
     "execution_count": 157,
     "metadata": {},
     "output_type": "execute_result"
    }
   ],
   "source": [
    "sonOgrenci"
   ]
  },
  {
   "cell_type": "code",
   "execution_count": 159,
   "id": "06ff49aa",
   "metadata": {},
   "outputs": [],
   "source": [
    "del ogrenciler[1]"
   ]
  },
  {
   "cell_type": "code",
   "execution_count": 171,
   "id": "0e5e7a2c",
   "metadata": {},
   "outputs": [],
   "source": [
    "ogrenciler.append([1,2])"
   ]
  },
  {
   "cell_type": "code",
   "execution_count": 174,
   "id": "21ca2df5",
   "metadata": {},
   "outputs": [],
   "source": [
    "ogrenciler[-1].remove(1)"
   ]
  },
  {
   "cell_type": "code",
   "execution_count": 175,
   "id": "8615e48c",
   "metadata": {},
   "outputs": [
    {
     "data": {
      "text/plain": [
       "[2]"
      ]
     },
     "execution_count": 175,
     "metadata": {},
     "output_type": "execute_result"
    }
   ],
   "source": [
    "ogrenciler[-1]"
   ]
  },
  {
   "cell_type": "code",
   "execution_count": 183,
   "id": "4b4c31b0",
   "metadata": {},
   "outputs": [],
   "source": [
    "ogrenciler.clear()"
   ]
  },
  {
   "cell_type": "code",
   "execution_count": 186,
   "id": "7c6f2a0d",
   "metadata": {},
   "outputs": [
    {
     "ename": "NameError",
     "evalue": "name 'ogrenciler' is not defined",
     "output_type": "error",
     "traceback": [
      "\u001b[0;31m---------------------------------------------------------------------------\u001b[0m",
      "\u001b[0;31mNameError\u001b[0m                                 Traceback (most recent call last)",
      "Cell \u001b[0;32mIn[186], line 1\u001b[0m\n\u001b[0;32m----> 1\u001b[0m ogrenciler\n",
      "\u001b[0;31mNameError\u001b[0m: name 'ogrenciler' is not defined"
     ]
    }
   ],
   "source": [
    "ogrenciler"
   ]
  },
  {
   "cell_type": "code",
   "execution_count": 185,
   "id": "19ff3c72",
   "metadata": {},
   "outputs": [],
   "source": [
    "del ogrenciler"
   ]
  },
  {
   "cell_type": "code",
   "execution_count": null,
   "id": "b88255c1",
   "metadata": {},
   "outputs": [],
   "source": []
  }
 ],
 "metadata": {
  "kernelspec": {
   "display_name": "Python 3 (ipykernel)",
   "language": "python",
   "name": "python3"
  },
  "language_info": {
   "codemirror_mode": {
    "name": "ipython",
    "version": 3
   },
   "file_extension": ".py",
   "mimetype": "text/x-python",
   "name": "python",
   "nbconvert_exporter": "python",
   "pygments_lexer": "ipython3",
   "version": "3.11.5"
  }
 },
 "nbformat": 4,
 "nbformat_minor": 5
}
