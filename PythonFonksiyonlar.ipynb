{
 "cells": [
  {
   "cell_type": "code",
   "execution_count": 2,
   "id": "c1d2940e-a7e2-4259-9597-1ec4fae3a61e",
   "metadata": {},
   "outputs": [],
   "source": []
  },
  {
   "cell_type": "code",
   "execution_count": 3,
   "id": "8d5e73bb-57fc-4bac-b2bb-920fa320c163",
   "metadata": {},
   "outputs": [
    {
     "data": {
      "text/plain": [
       "str"
      ]
     },
     "execution_count": 3,
     "metadata": {},
     "output_type": "execute_result"
    }
   ],
   "source": [
    "type(a)"
   ]
  },
  {
   "cell_type": "code",
   "execution_count": 5,
   "id": "5c212072-70e4-450b-9b23-bbe752bb2621",
   "metadata": {},
   "outputs": [
    {
     "data": {
      "text/plain": [
       "'i'"
      ]
     },
     "execution_count": 5,
     "metadata": {},
     "output_type": "execute_result"
    }
   ],
   "source": [
    "a[1]"
   ]
  },
  {
   "cell_type": "code",
   "execution_count": 6,
   "id": "9605f8e4-9636-496e-917b-c4fb320ae1ae",
   "metadata": {},
   "outputs": [
    {
     "data": {
      "text/plain": [
       "20"
      ]
     },
     "execution_count": 6,
     "metadata": {},
     "output_type": "execute_result"
    }
   ],
   "source": [
    "len(a)"
   ]
  },
  {
   "cell_type": "code",
   "execution_count": null,
   "id": "8ab714dd-4057-40e6-ad0e-e66a81e44baf",
   "metadata": {},
   "outputs": [],
   "source": [
    "for(int i = 0; i<??? ; i++) {}"
   ]
  },
  {
   "cell_type": "code",
   "execution_count": 8,
   "id": "a5304edc-3901-471f-a43f-4a57d9707b95",
   "metadata": {},
   "outputs": [
    {
     "name": "stdout",
     "output_type": "stream",
     "text": [
      "range(0, 20)\n"
     ]
    }
   ],
   "source": [
    "print(range(0,len(a) ))"
   ]
  },
  {
   "cell_type": "code",
   "execution_count": 12,
   "id": "11da0651-e5fd-4fe0-a796-e2dd5cc6939a",
   "metadata": {},
   "outputs": [
    {
     "name": "stdout",
     "output_type": "stream",
     "text": [
      "B\n",
      "l\n",
      " \n",
      "u\n",
      " \n",
      "i\n",
      "i\n",
      " \n",
      "e\n",
      "s\n"
     ]
    }
   ],
   "source": [
    "for i in range(0, len(a),2 ) :\n",
    "    #print(i)\n",
    "    print(a[i])"
   ]
  },
  {
   "cell_type": "code",
   "execution_count": 41,
   "id": "1e3aec11-cb12-4425-84d6-158e341f0ba9",
   "metadata": {},
   "outputs": [],
   "source": []
  },
  {
   "cell_type": "code",
   "execution_count": null,
   "id": "757aeb06-fc0b-4d87-98a1-ba33046c8986",
   "metadata": {},
   "outputs": [],
   "source": []
  },
  {
   "cell_type": "code",
   "execution_count": null,
   "id": "51b39984-9592-4a6a-975a-2b0f0c5d7ce9",
   "metadata": {},
   "outputs": [],
   "source": []
  },
  {
   "cell_type": "code",
   "execution_count": 16,
   "id": "a20d5d8e-1946-4dd3-9179-3688ce8eedcb",
   "metadata": {},
   "outputs": [],
   "source": [
    "a = 375"
   ]
  },
  {
   "cell_type": "code",
   "execution_count": 18,
   "id": "efda641b-5279-4b4e-ac81-e7996f1f2ace",
   "metadata": {},
   "outputs": [
    {
     "name": "stdout",
     "output_type": "stream",
     "text": [
      "3\n",
      "7\n",
      "5\n"
     ]
    }
   ],
   "source": [
    "for harf in str(a):\n",
    "    print(harf)"
   ]
  },
  {
   "cell_type": "code",
   "execution_count": 28,
   "id": "145c8830-ae52-42dd-b447-8df488b7f82e",
   "metadata": {},
   "outputs": [],
   "source": [
    "aranan = \"Bilgisayar\""
   ]
  },
  {
   "cell_type": "code",
   "execution_count": 30,
   "id": "ed441959-fe91-4eab-8a47-f0faac88bc84",
   "metadata": {},
   "outputs": [
    {
     "name": "stdout",
     "output_type": "stream",
     "text": [
      "bulduk!\n"
     ]
    }
   ],
   "source": [
    "if aranan not in a:\n",
    "    print(\"bulduk!\")\n",
    "else:\n",
    "    print(\"bulamadik\")"
   ]
  },
  {
   "cell_type": "code",
   "execution_count": null,
   "id": "e2fe04d6-aee7-467f-95a8-d7b2d7ffa1e5",
   "metadata": {},
   "outputs": [],
   "source": []
  },
  {
   "cell_type": "code",
   "execution_count": 37,
   "id": "8132c9f8-0ebc-4363-b0cc-92f3e9e5e4fd",
   "metadata": {},
   "outputs": [
    {
     "data": {
      "text/plain": [
       "'BILG MUH GIRIS DERSI'"
      ]
     },
     "execution_count": 37,
     "metadata": {},
     "output_type": "execute_result"
    }
   ],
   "source": [
    "a.upper()"
   ]
  },
  {
   "cell_type": "code",
   "execution_count": 42,
   "id": "513b2e98-e26b-4a3f-a281-9cddfc1c324d",
   "metadata": {},
   "outputs": [
    {
     "data": {
      "text/plain": [
       "'   bilg muh giris dersi    '"
      ]
     },
     "execution_count": 42,
     "metadata": {},
     "output_type": "execute_result"
    }
   ],
   "source": [
    "a.lower()"
   ]
  },
  {
   "cell_type": "code",
   "execution_count": 36,
   "id": "78d33ada-78eb-482f-b98e-3b3d125761d5",
   "metadata": {},
   "outputs": [
    {
     "data": {
      "text/plain": [
       "'Bilg Muh giris de'"
      ]
     },
     "execution_count": 36,
     "metadata": {},
     "output_type": "execute_result"
    }
   ],
   "source": [
    "a[:-3]    "
   ]
  },
  {
   "cell_type": "code",
   "execution_count": 43,
   "id": "66e2db3b-8f0a-45ad-9a14-331f2ea2c958",
   "metadata": {},
   "outputs": [
    {
     "data": {
      "text/plain": [
       "'Bilg Muh giris dersi'"
      ]
     },
     "execution_count": 43,
     "metadata": {},
     "output_type": "execute_result"
    }
   ],
   "source": [
    "a.strip()"
   ]
  },
  {
   "cell_type": "code",
   "execution_count": 47,
   "id": "e5d00ffd-fcee-411b-b7ec-a0d9348eac96",
   "metadata": {},
   "outputs": [],
   "source": [
    "a = a.replace(\"Muh\", \"Nuh\")"
   ]
  },
  {
   "cell_type": "code",
   "execution_count": 56,
   "id": "d405c6a3-41d0-4b5a-8720-af89857c79ae",
   "metadata": {},
   "outputs": [],
   "source": [
    "a = \"   Bilg, Muh giris, dersi  i i i i i   \""
   ]
  },
  {
   "cell_type": "code",
   "execution_count": 57,
   "id": "a2fef667-8046-4107-af57-c05c3da4fdbb",
   "metadata": {},
   "outputs": [
    {
     "data": {
      "text/plain": [
       "['   B', 'lg, Muh g', 'ris, dersi  i i i i i   ']"
      ]
     },
     "execution_count": 57,
     "metadata": {},
     "output_type": "execute_result"
    }
   ],
   "source": [
    "a.split(\"i\", 2)"
   ]
  },
  {
   "cell_type": "code",
   "execution_count": 46,
   "id": "076548ff-bd17-4614-94eb-aab3808a6d2b",
   "metadata": {},
   "outputs": [
    {
     "name": "stdout",
     "output_type": "stream",
     "text": [
      "Bilg\n",
      "Muh\n",
      "giris\n",
      "dersi\n"
     ]
    }
   ],
   "source": [
    "for kelime in a.split():\n",
    "    print(kelime)"
   ]
  },
  {
   "cell_type": "code",
   "execution_count": 120,
   "id": "f593f9e6-cee3-48d3-ab37-5b0e1d1256a5",
   "metadata": {},
   "outputs": [],
   "source": [
    "def karsilama(fonksiyon, isim = \"Sahip\" , unvan = \"Dr\"):\n",
    "    fonksiyon(isim)\n",
    "    \n",
    "    karsilamaMetni = \"Hosgeldin! \" +str(unvan) + \" \" +  str(isim)\n",
    "    print( karsilamaMetni)\n",
    "    return karsilamaMetni, 3,56, \"hal\""
   ]
  },
  {
   "cell_type": "code",
   "execution_count": 121,
   "id": "87d3bef9-00db-41cb-9830-cc9bbed227a4",
   "metadata": {},
   "outputs": [
    {
     "name": "stdout",
     "output_type": "stream",
     "text": [
      "HololoAli\n",
      "Hosgeldin! Reis Ali\n"
     ]
    },
    {
     "data": {
      "text/plain": [
       "('Hosgeldin! Reis Ali', 3, 56, 'hal')"
      ]
     },
     "execution_count": 121,
     "metadata": {},
     "output_type": "execute_result"
    }
   ],
   "source": [
    "karsilama(f,  \"Ali\", \"Reis\")"
   ]
  },
  {
   "cell_type": "code",
   "execution_count": 112,
   "id": "52cdacbd-11a6-450d-99a7-53c789dee2ef",
   "metadata": {},
   "outputs": [
    {
     "name": "stdout",
     "output_type": "stream",
     "text": [
      "Hosgeldin! Dr Ali\n"
     ]
    }
   ],
   "source": [
    "cevap, ilkSayi, ikinciSayi, metin = karsilama(\"Ali\")"
   ]
  },
  {
   "cell_type": "code",
   "execution_count": 115,
   "id": "d3b38076-4901-414d-9e1a-76fea70d8196",
   "metadata": {},
   "outputs": [
    {
     "name": "stdout",
     "output_type": "stream",
     "text": [
      "Hosgeldin! Dr Ali\n",
      "56\n",
      "hal\n"
     ]
    }
   ],
   "source": [
    "print(cevap)\n",
    "print(ikinciSayi)\n",
    "print(metin)"
   ]
  },
  {
   "cell_type": "code",
   "execution_count": 118,
   "id": "12b71121-29c5-47cf-b8c6-2be4ae612d71",
   "metadata": {},
   "outputs": [],
   "source": [
    "def f(a):\n",
    "    print(\"Hololo\" + str(a) )"
   ]
  },
  {
   "cell_type": "code",
   "execution_count": 119,
   "id": "fcf5b26d-7c37-40cf-a584-d00fb277a8dd",
   "metadata": {},
   "outputs": [
    {
     "name": "stdout",
     "output_type": "stream",
     "text": [
      "Hololo3\n"
     ]
    }
   ],
   "source": [
    "f(3)"
   ]
  }
 ],
 "metadata": {
  "kernelspec": {
   "display_name": "Python 3 (ipykernel)",
   "language": "python",
   "name": "python3"
  },
  "language_info": {
   "codemirror_mode": {
    "name": "ipython",
    "version": 3
   },
   "file_extension": ".py",
   "mimetype": "text/x-python",
   "name": "python",
   "nbconvert_exporter": "python",
   "pygments_lexer": "ipython3",
   "version": "3.11.5"
  }
 },
 "nbformat": 4,
 "nbformat_minor": 5
}
